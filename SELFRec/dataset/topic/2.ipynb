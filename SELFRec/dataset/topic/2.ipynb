{
 "cells": [
  {
   "cell_type": "code",
   "execution_count": 13,
   "metadata": {},
   "outputs": [
    {
     "name": "stdout",
     "output_type": "stream",
     "text": [
      "(0, 1, '[12,15]')\n"
     ]
    }
   ],
   "source": [
    "import mysql.connector\n",
    "\n",
    "# 建立数据库连接\n",
    "cnx = mysql.connector.connect(\n",
    "    host='localhost',\n",
    "    user='zzj',\n",
    "    password='@zzj121',\n",
    "    database='T_newsRecommended'\n",
    ")\n",
    "\n",
    "# 创建游标对象\n",
    "cursor = cnx.cursor()\n",
    "\n",
    "# 执行 SQL 查询语句\n",
    "query = \"SELECT * FROM user_to_news\"\n",
    "cursor.execute(query)\n",
    "\n",
    "# 获取查询结果\n",
    "result = cursor.fetchall()\n",
    "\n",
    "# 打印结果\n",
    "for row in result:\n",
    "    print(row)\n",
    "\n"
   ]
  },
  {
   "cell_type": "code",
   "execution_count": 15,
   "metadata": {},
   "outputs": [],
   "source": [
    "# 插入数据的 SQL 语句\n",
    "query = \"INSERT INTO user_to_news (id,user_id, news_id) VALUES ( %s,%s, %s)\"\n",
    "\n",
    "# 要插入的数据\n",
    "data = (1,2, '3')\n",
    "\n",
    "# 执行插入操作\n",
    "cursor.execute(query, data)\n",
    "\n",
    "# 提交事务\n",
    "cnx.commit()\n",
    "\n"
   ]
  },
  {
   "cell_type": "code",
   "execution_count": 16,
   "metadata": {},
   "outputs": [],
   "source": [
    "# 关闭游标和数据库连接\n",
    "cursor.close()\n",
    "cnx.close()\n"
   ]
  }
 ],
 "metadata": {
  "kernelspec": {
   "display_name": "ai",
   "language": "python",
   "name": "python3"
  },
  "language_info": {
   "codemirror_mode": {
    "name": "ipython",
    "version": 3
   },
   "file_extension": ".py",
   "mimetype": "text/x-python",
   "name": "python",
   "nbconvert_exporter": "python",
   "pygments_lexer": "ipython3",
   "version": "3.8.16"
  },
  "orig_nbformat": 4
 },
 "nbformat": 4,
 "nbformat_minor": 2
}
